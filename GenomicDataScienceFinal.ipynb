{
 "cells": [
  {
   "cell_type": "code",
   "execution_count": 1,
   "metadata": {},
   "outputs": [
    {
     "name": "stdout",
     "output_type": "stream",
     "text": [
      "There are 25 records existing in this file\n"
     ]
    }
   ],
   "source": [
    " from Bio import SeqIO\n",
    " records = list(SeqIO.parse(\"dna.example.fasta\", \"fasta\"))\n",
    "print(\"There are %s records existing in this file\" % len(records))"
   ]
  },
  {
   "cell_type": "code",
   "execution_count": 9,
   "metadata": {},
   "outputs": [],
   "source": [
    "\n",
    "\n",
    "def Sorting(lst): \n",
    "    lst.sort(key=len) \n",
    "    return(max(lst))\n",
    "\n",
    "\n",
    "def Sorting(lst): \n",
    "    lst.sort(key=len) \n",
    "    return(max(lst),min(lst))"
   ]
  },
  {
   "cell_type": "code",
   "execution_count": null,
   "metadata": {},
   "outputs": [],
   "source": []
  }
 ],
 "metadata": {
  "kernelspec": {
   "display_name": "Python 3",
   "language": "python",
   "name": "python3"
  },
  "language_info": {
   "codemirror_mode": {
    "name": "ipython",
    "version": 3
   },
   "file_extension": ".py",
   "mimetype": "text/x-python",
   "name": "python",
   "nbconvert_exporter": "python",
   "pygments_lexer": "ipython3",
   "version": "3.7.3"
  }
 },
 "nbformat": 4,
 "nbformat_minor": 2
}
